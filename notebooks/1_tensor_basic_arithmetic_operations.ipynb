{
 "cells": [
  {
   "cell_type": "markdown",
   "metadata": {},
   "source": [
    "## Basic Arithmetic Operations"
   ]
  },
  {
   "cell_type": "code",
   "execution_count": 59,
   "metadata": {},
   "outputs": [],
   "source": [
    "import numpy as np\n",
    "import tensorflow as tf\n",
    "import torch"
   ]
  },
  {
   "cell_type": "markdown",
   "metadata": {},
   "source": [
    "### 0. Device placement \n",
    "\n",
    "* Plain Python: No device specification, runs only on the CPU.\n",
    "* NumPy: No device specification, runs only on the CPU.\n",
    "* TensorFlow: Uses with tf.device() to specify the device (/GPU:0 for GPU, /CPU:0 for CPU).\n",
    "* PyTorch: Uses .to(device) or .cuda() to specify the device. The device is determined using torch.device()"
   ]
  },
  {
   "cell_type": "code",
   "execution_count": 60,
   "metadata": {},
   "outputs": [
    {
     "name": "stdout",
     "output_type": "stream",
     "text": [
      "Using Tensroflow device: /CPU:0\n",
      "Using Torch device: cpu\n"
     ]
    }
   ],
   "source": [
    "# Tensorflow: Place on GPU if available, otherwise use CPU\n",
    "tf_device = \"/GPU:0\" if tf.config.list_physical_devices('GPU') else \"/CPU:0\"\n",
    "print(f\"Using Tensroflow device: {tf_device}\")\n",
    "\n",
    "torch_device = torch.device(\"cuda\" if torch.cuda.is_available() else \"cpu\")\n",
    "print(f\"Using Torch device: {torch_device}\")"
   ]
  },
  {
   "cell_type": "markdown",
   "metadata": {},
   "source": [
    "### 1. Addition"
   ]
  },
  {
   "cell_type": "markdown",
   "metadata": {},
   "source": [
    "Plain Python"
   ]
  },
  {
   "cell_type": "code",
   "execution_count": 61,
   "metadata": {},
   "outputs": [
    {
     "name": "stdout",
     "output_type": "stream",
     "text": [
      "Addition (Plain Python): [5, 7, 9]\n"
     ]
    }
   ],
   "source": [
    "# Example Data (Two Vectors)\n",
    "a = [1, 2, 3]\n",
    "b = [4, 5, 6]\n",
    "\n",
    "# Element-wise addition of two vectors\n",
    "result = [a[i] + b[i] for i in range(len(a))]  # Output: [5, 7, 9]\n",
    "print(\"Addition (Plain Python):\", result)\n"
   ]
  },
  {
   "cell_type": "markdown",
   "metadata": {},
   "source": [
    "NumPy"
   ]
  },
  {
   "cell_type": "code",
   "execution_count": 62,
   "metadata": {},
   "outputs": [
    {
     "name": "stdout",
     "output_type": "stream",
     "text": [
      "Addition (NumPy): [5 7 9]\n"
     ]
    }
   ],
   "source": [
    "a = np.array([1, 2, 3])\n",
    "b = np.array([4, 5, 6])\n",
    "result = a + b  # Output: [5, 7, 9]\n",
    "print(\"Addition (NumPy):\", result)"
   ]
  },
  {
   "cell_type": "markdown",
   "metadata": {},
   "source": [
    "TensorFlow"
   ]
  },
  {
   "cell_type": "code",
   "execution_count": null,
   "metadata": {},
   "outputs": [
    {
     "name": "stdout",
     "output_type": "stream",
     "text": [
      "Addition (TensorFlow): [5. 7. 9.]\n"
     ]
    }
   ],
   "source": [
    "a = tf.constant([1, 2, 3], dtype=tf.float32)\n",
    "b = tf.constant([4, 5, 6], dtype=tf.float32)\n",
    "\n",
    "result = tf.add(a, b)  # Output: [5, 7, 9]\n",
    "print(\"Addition (TensorFlow):\", result.numpy())"
   ]
  },
  {
   "cell_type": "code",
   "execution_count": null,
   "metadata": {},
   "outputs": [
    {
     "name": "stdout",
     "output_type": "stream",
     "text": [
      "Addition (TensorFlow): [5. 7. 9.]\n"
     ]
    }
   ],
   "source": [
    "# Here we could run the operation on GPU if available\n",
    "\n",
    "a = tf.constant([1, 2, 3], dtype=tf.float32)\n",
    "b = tf.constant([4, 5, 6], dtype=tf.float32)\n",
    "\n",
    "with tf.device(tf_device):\n",
    "    result = tf.add(a, b)  # Output: [5, 7, 9]\n",
    "print(\"Addition (TensorFlow):\", result.numpy())"
   ]
  },
  {
   "cell_type": "code",
   "execution_count": 65,
   "metadata": {},
   "outputs": [
    {
     "name": "stdout",
     "output_type": "stream",
     "text": [
      "Gradient of addition w.r.t a: 1.0\n",
      "Gradient of addition w.r.t b: 1.0\n"
     ]
    }
   ],
   "source": [
    "# Here we are using Autograd. It helps to figure out how things change when you tweak things. Not necessarily important here but later.\n",
    "\n",
    "# Define variables for TensorFlow\n",
    "a = tf.Variable(2.0)\n",
    "b = tf.Variable(3.0)\n",
    "\n",
    "# Use GradientTape to track operations\n",
    "with tf.GradientTape() as tape:\n",
    "    # Perform addition\n",
    "    addition = a + b  # f(a, b) = a + b\n",
    "\n",
    "# Compute gradients\n",
    "grad_a, grad_b = tape.gradient(addition, [a, b])\n",
    "\n",
    "# Display the gradients\n",
    "print(\"Gradient of addition w.r.t a:\", grad_a.numpy())  # Should be 1.0\n",
    "print(\"Gradient of addition w.r.t b:\", grad_b.numpy())  # Should be 1.0\n"
   ]
  },
  {
   "cell_type": "markdown",
   "metadata": {},
   "source": [
    "PyTorch"
   ]
  },
  {
   "cell_type": "code",
   "execution_count": 69,
   "metadata": {},
   "outputs": [
    {
     "name": "stdout",
     "output_type": "stream",
     "text": [
      "Addition (PyTorch): tensor([5, 7, 9])\n"
     ]
    }
   ],
   "source": [
    "a = torch.tensor([1, 2, 3])\n",
    "b = torch.tensor([4, 5, 6])\n",
    "\n",
    "result = a + b  # Output: tensor([5., 7., 9.])\n",
    "print(\"Addition (PyTorch):\", result)"
   ]
  },
  {
   "cell_type": "code",
   "execution_count": 70,
   "metadata": {},
   "outputs": [
    {
     "name": "stdout",
     "output_type": "stream",
     "text": [
      "Addition (PyTorch): tensor([5, 7, 9])\n"
     ]
    }
   ],
   "source": [
    "# Here we could run the operation on GPU if available\n",
    "\n",
    "a = torch.tensor([1, 2, 3]).to(torch_device)\n",
    "b = torch.tensor([4, 5, 6]).to(torch_device)\n",
    "\n",
    "result = a + b  # Output: tensor([5., 7., 9.])\n",
    "print(\"Addition (PyTorch):\", result)"
   ]
  },
  {
   "cell_type": "code",
   "execution_count": 106,
   "metadata": {},
   "outputs": [
    {
     "name": "stdout",
     "output_type": "stream",
     "text": [
      "Gradient of addition w.r.t a: 1.0\n",
      "Gradient of addition w.r.t b: 1.0\n"
     ]
    }
   ],
   "source": [
    "# Here we are using Autograd. It helps to figure out how things change when you tweak things. Not necessarily important here but later.\n",
    "\n",
    "# Define variables with requires_grad=True to enable autograd\n",
    "a = torch.tensor(2.0, requires_grad=True)\n",
    "b = torch.tensor(3.0, requires_grad=True)\n",
    "\n",
    "# Perform addition\n",
    "addition = a + b  # f(a, b) = a + b\n",
    "\n",
    "# Compute gradients\n",
    "addition.backward()\n",
    "\n",
    "# Display the gradients\n",
    "print(\"Gradient of addition w.r.t a:\", a.grad.numpy())  # Should be 1.0\n",
    "print(\"Gradient of addition w.r.t b:\", b.grad.numpy())  # Should be 1.0\n"
   ]
  },
  {
   "cell_type": "markdown",
   "metadata": {},
   "source": [
    "### 2. Subtraction"
   ]
  },
  {
   "cell_type": "markdown",
   "metadata": {},
   "source": [
    "Plain Python"
   ]
  },
  {
   "cell_type": "code",
   "execution_count": 72,
   "metadata": {},
   "outputs": [
    {
     "name": "stdout",
     "output_type": "stream",
     "text": [
      "Subtraction (Plain Python): [-3, -3, -3]\n"
     ]
    }
   ],
   "source": [
    "# Example Data (Two Vectors)\n",
    "a = [1, 2, 3]\n",
    "b = [4, 5, 6]\n",
    "\n",
    "# Element-wise subtraction of two vectors\n",
    "result = [a[i] - b[i] for i in range(len(a))] # Output: [-3, -3, -3]\n",
    "print(\"Subtraction (Plain Python):\", result)\n"
   ]
  },
  {
   "cell_type": "markdown",
   "metadata": {},
   "source": [
    "NumPy\n"
   ]
  },
  {
   "cell_type": "code",
   "execution_count": 73,
   "metadata": {},
   "outputs": [
    {
     "name": "stdout",
     "output_type": "stream",
     "text": [
      "Subtraction (NumPy): [-3 -3 -3]\n"
     ]
    }
   ],
   "source": [
    "a = np.array([1, 2, 3])\n",
    "b = np.array([4, 5, 6])\n",
    "\n",
    "result = a - b  # Output: [ -3, -3, -3]\n",
    "print(\"Subtraction (NumPy):\", result)\n"
   ]
  },
  {
   "cell_type": "markdown",
   "metadata": {},
   "source": [
    "TensorFlow"
   ]
  },
  {
   "cell_type": "code",
   "execution_count": null,
   "metadata": {},
   "outputs": [
    {
     "name": "stdout",
     "output_type": "stream",
     "text": [
      "Subtraction (TensorFlow): [-3. -3. -3.]\n"
     ]
    }
   ],
   "source": [
    "a = tf.constant([1, 2, 3], dtype=tf.float32)\n",
    "b = tf.constant([4, 5, 6], dtype=tf.float32)\n",
    "\n",
    "result = tf.subtract(a, b)  # Output: [-3, -3, -3]\n",
    "print(\"Subtraction (TensorFlow):\", result.numpy())\n"
   ]
  },
  {
   "cell_type": "code",
   "execution_count": null,
   "metadata": {},
   "outputs": [
    {
     "name": "stdout",
     "output_type": "stream",
     "text": [
      "Subtraction (TensorFlow): [-3. -3. -3.]\n"
     ]
    }
   ],
   "source": [
    "# Here we could run the operation on GPU if available\n",
    "\n",
    "a = tf.constant([1, 2, 3], dtype=tf.float32)\n",
    "b = tf.constant([4, 5, 6], dtype=tf.float32)\n",
    "\n",
    "with tf.device(tf_device):\n",
    "    result = tf.subtract(a, b)  # Output: [-3, -3, -3]\n",
    "print(\"Subtraction (TensorFlow):\", result.numpy())"
   ]
  },
  {
   "cell_type": "code",
   "execution_count": 86,
   "metadata": {},
   "outputs": [
    {
     "name": "stdout",
     "output_type": "stream",
     "text": [
      "Gradient of subtraction w.r.t a: 1.0\n",
      "Gradient of subtraction w.r.t b: -1.0\n"
     ]
    }
   ],
   "source": [
    "# Here we are using Autograd. It helps to figure out how things change when you tweak things. Not necessarily important here but later.\n",
    "\n",
    "# Define variables for TensorFlow\n",
    "a = tf.Variable(2.0)\n",
    "b = tf.Variable(3.0)\n",
    "\n",
    "# Use GradientTape to track operations\n",
    "with tf.GradientTape() as tape:\n",
    "    # Perform substraction\n",
    "    subtraction = a - b  # f(a, b) = a - b\n",
    "\n",
    "# Compute gradients\n",
    "grad_a, grad_b = tape.gradient(subtraction, [a, b])\n",
    "\n",
    "# Display the gradients\n",
    "print(\"Gradient of subtraction w.r.t a:\", grad_a.numpy())  # Should be 1.0\n",
    "print(\"Gradient of subtraction w.r.t b:\", grad_b.numpy())  # Should be -1.0"
   ]
  },
  {
   "cell_type": "markdown",
   "metadata": {},
   "source": [
    "PyTorch"
   ]
  },
  {
   "cell_type": "code",
   "execution_count": 75,
   "metadata": {},
   "outputs": [
    {
     "name": "stdout",
     "output_type": "stream",
     "text": [
      "Subtraction (PyTorch): tensor([-3, -3, -3])\n"
     ]
    }
   ],
   "source": [
    "a = torch.tensor([1, 2, 3])\n",
    "b = torch.tensor([4, 5, 6])\n",
    "\n",
    "result = a - b  # Output: tensor([-3., -3., -3.])\n",
    "print(\"Subtraction (PyTorch):\", result)\n"
   ]
  },
  {
   "cell_type": "code",
   "execution_count": null,
   "metadata": {},
   "outputs": [
    {
     "name": "stdout",
     "output_type": "stream",
     "text": [
      "Subtraction (PyTorch): tensor([-3, -3, -3])\n"
     ]
    }
   ],
   "source": [
    "# Here we could run the operation on GPU if available\n",
    "\n",
    "a = torch.tensor([1, 2, 3]).to(torch_device)\n",
    "b = torch.tensor([4, 5, 6]).to(torch_device)\n",
    "\n",
    "result = a - b  # Output: tensor([-3., -3., -3.])\n",
    "print(\"Subtraction (PyTorch):\", result)"
   ]
  },
  {
   "cell_type": "code",
   "execution_count": 105,
   "metadata": {},
   "outputs": [
    {
     "name": "stdout",
     "output_type": "stream",
     "text": [
      "Gradient of subtraction w.r.t a: 1.0\n",
      "Gradient of subtraction w.r.t b: -1.0\n"
     ]
    }
   ],
   "source": [
    "# Here we are using Autograd. It helps to figure out how things change when you tweak things. Not necessarily important here but later.\n",
    "\n",
    "# Define variables with requires_grad=True to enable autograd\n",
    "a = torch.tensor(2.0, requires_grad=True)\n",
    "b = torch.tensor(3.0, requires_grad=True)\n",
    "\n",
    "# Perform subtraction\n",
    "subtraction = a - b  # f(a, b) = a - b\n",
    "\n",
    "# Compute gradients\n",
    "subtraction.backward()\n",
    "\n",
    "# Display the gradients\n",
    "print(\"Gradient of subtraction w.r.t a:\", a.grad.numpy())  # Should be 1.0\n",
    "print(\"Gradient of subtraction w.r.t b:\", b.grad.numpy())  # Should be -1.0"
   ]
  },
  {
   "cell_type": "markdown",
   "metadata": {},
   "source": [
    "### 3. Multiplication"
   ]
  },
  {
   "cell_type": "markdown",
   "metadata": {},
   "source": [
    "Plain Python"
   ]
  },
  {
   "cell_type": "code",
   "execution_count": 76,
   "metadata": {},
   "outputs": [
    {
     "name": "stdout",
     "output_type": "stream",
     "text": [
      "Multiplication (Plain Python): [4, 10, 18]\n"
     ]
    }
   ],
   "source": [
    "a = [1, 2, 3]\n",
    "b = [4, 5, 6]\n",
    "# Element-wise multiplication of two vectors\n",
    "result = [a[i] * b[i] for i in range(len(a))]  # Output: [4, 10, 18]\n",
    "print(\"Multiplication (Plain Python):\", result)\n"
   ]
  },
  {
   "cell_type": "markdown",
   "metadata": {},
   "source": [
    "NumPy"
   ]
  },
  {
   "cell_type": "code",
   "execution_count": 77,
   "metadata": {},
   "outputs": [
    {
     "name": "stdout",
     "output_type": "stream",
     "text": [
      "Multiplication (NumPy): [ 4 10 18]\n"
     ]
    }
   ],
   "source": [
    "a = np.array([1, 2, 3])\n",
    "b = np.array([4, 5, 6])\n",
    "\n",
    "result = a * b  # Output: [4, 10, 18]\n",
    "print(\"Multiplication (NumPy):\", result)\n"
   ]
  },
  {
   "cell_type": "markdown",
   "metadata": {},
   "source": [
    "TensorFlow"
   ]
  },
  {
   "cell_type": "code",
   "execution_count": null,
   "metadata": {},
   "outputs": [
    {
     "name": "stdout",
     "output_type": "stream",
     "text": [
      "Multiplication (TensorFlow): [ 4. 10. 18.]\n"
     ]
    }
   ],
   "source": [
    "a = tf.constant([1, 2, 3], dtype=tf.float32)\n",
    "b = tf.constant([4, 5, 6], dtype=tf.float32)\n",
    "\n",
    "result = tf.multiply(a, b)  # Output: [4, 10, 18]\n",
    "print(\"Multiplication (TensorFlow):\", result.numpy())\n"
   ]
  },
  {
   "cell_type": "code",
   "execution_count": 95,
   "metadata": {},
   "outputs": [
    {
     "name": "stdout",
     "output_type": "stream",
     "text": [
      "Multiplication (TensorFlow): [ 4. 10. 18.]\n"
     ]
    }
   ],
   "source": [
    "# Here we could run the operation on GPU if available\n",
    "\n",
    "a = tf.constant([1, 2, 3], dtype=tf.float32)\n",
    "b = tf.constant([4, 5, 6], dtype=tf.float32)\n",
    "\n",
    "with tf.device(tf_device):\n",
    "    result = tf.multiply(a, b)  # Output: [4, 10, 18]\n",
    "print(\"Multiplication (TensorFlow):\", result.numpy())"
   ]
  },
  {
   "cell_type": "code",
   "execution_count": null,
   "metadata": {},
   "outputs": [
    {
     "name": "stdout",
     "output_type": "stream",
     "text": [
      "Gradient of multiplication w.r.t a: 3.0\n",
      "Gradient of multiplication w.r.t b: 2.0\n"
     ]
    }
   ],
   "source": [
    "# Here we are using Autograd. It helps to figure out how things change when you tweak things. Not necessarily important here but later.\n",
    "\n",
    "# Define variables for TensorFlow\n",
    "a = tf.Variable(2.0)\n",
    "b = tf.Variable(3.0)\n",
    "\n",
    "# Use GradientTape to track operations\n",
    "with tf.GradientTape() as tape:\n",
    "    # Perform multiplication\n",
    "    multiplication = a * b  # f(a, b) = a * b\n",
    "\n",
    "# Compute gradients\n",
    "grad_a, grad_b = tape.gradient(multiplication, [a, b])\n",
    "\n",
    "# Display the gradients\n",
    "print(\"Gradient of multiplication w.r.t a:\", grad_a.numpy())  # Should be 3.0\n",
    "print(\"Gradient of multiplication w.r.t b:\", grad_b.numpy())  # Should be 2.0"
   ]
  },
  {
   "cell_type": "markdown",
   "metadata": {},
   "source": [
    "PyTorch"
   ]
  },
  {
   "cell_type": "code",
   "execution_count": 79,
   "metadata": {},
   "outputs": [
    {
     "name": "stdout",
     "output_type": "stream",
     "text": [
      "Multiplication (PyTorch): tf.Tensor([ 4. 10. 18.], shape=(3,), dtype=float32)\n"
     ]
    }
   ],
   "source": [
    "torch.tensor([1, 2, 3])\n",
    "torch.tensor([4, 5, 6])\n",
    "\n",
    "result = a * b  # Output: tensor([4., 10., 18.])\n",
    "print(\"Multiplication (PyTorch):\", result)"
   ]
  },
  {
   "cell_type": "code",
   "execution_count": 97,
   "metadata": {},
   "outputs": [
    {
     "name": "stdout",
     "output_type": "stream",
     "text": [
      "Multiplication (PyTorch): tensor([ 4, 10, 18])\n"
     ]
    }
   ],
   "source": [
    "# Here we could run the operation on GPU if available\n",
    "\n",
    "a = torch.tensor([1, 2, 3]).to(torch_device)\n",
    "b = torch.tensor([4, 5, 6]).to(torch_device)\n",
    "\n",
    "result = a * b  # Output: tensor([4, 10, 18])\n",
    "print(\"Multiplication (PyTorch):\", result)"
   ]
  },
  {
   "cell_type": "code",
   "execution_count": 104,
   "metadata": {},
   "outputs": [
    {
     "name": "stdout",
     "output_type": "stream",
     "text": [
      "Gradient of multiplication w.r.t a: 3.0\n",
      "Gradient of multiplication w.r.t b: 2.0\n"
     ]
    }
   ],
   "source": [
    "# Here we are using Autograd. It helps to figure out how things change when you tweak things. Not necessarily important here but later.\n",
    "\n",
    "# Define variables with requires_grad=True to enable autograd\n",
    "a = torch.tensor(2.0, requires_grad=True)\n",
    "b = torch.tensor(3.0, requires_grad=True)\n",
    "\n",
    "# Perform multiplication\n",
    "multiplication = a * b  # f(a, b) = a * b\n",
    "\n",
    "# Compute gradients\n",
    "multiplication.backward()\n",
    "\n",
    "# Display the gradients\n",
    "print(\"Gradient of multiplication w.r.t a:\", a.grad.numpy())  # Should be 3.0\n",
    "print(\"Gradient of multiplication w.r.t b:\", b.grad.numpy())  # Should be 2.0"
   ]
  },
  {
   "cell_type": "markdown",
   "metadata": {},
   "source": [
    "### 4. Division"
   ]
  },
  {
   "cell_type": "markdown",
   "metadata": {},
   "source": [
    "Plain Python"
   ]
  },
  {
   "cell_type": "code",
   "execution_count": 80,
   "metadata": {},
   "outputs": [
    {
     "name": "stdout",
     "output_type": "stream",
     "text": [
      "Division (Plain Python): [0.25, 0.4, 0.5]\n"
     ]
    }
   ],
   "source": [
    "a = [1, 2, 3]\n",
    "b = [4, 5, 6]\n",
    "\n",
    "# Element-wise division of two vectors\n",
    "result = [a[i] / b[i] if b[i] != 0 else float('inf') for i in range(len(a))]  # Output: [0.25, 0.4, 0.5]\n",
    "print(\"Division (Plain Python):\", result)"
   ]
  },
  {
   "cell_type": "markdown",
   "metadata": {},
   "source": [
    "NumPy"
   ]
  },
  {
   "cell_type": "code",
   "execution_count": 81,
   "metadata": {},
   "outputs": [
    {
     "name": "stdout",
     "output_type": "stream",
     "text": [
      "Division (NumPy): [0.25 0.4  0.5 ]\n"
     ]
    }
   ],
   "source": [
    "a = np.array([1, 2, 3])\n",
    "b = np.array([4, 5, 6])\n",
    "\n",
    "result = a / b  # Output: [0.25, 0.4, 0.5]\n",
    "print(\"Division (NumPy):\", result)"
   ]
  },
  {
   "cell_type": "markdown",
   "metadata": {},
   "source": [
    "TensorFlow"
   ]
  },
  {
   "cell_type": "code",
   "execution_count": 91,
   "metadata": {},
   "outputs": [
    {
     "name": "stdout",
     "output_type": "stream",
     "text": [
      "Division (TensorFlow): [0.25 0.4  0.5 ]\n"
     ]
    }
   ],
   "source": [
    "a = tf.constant([1, 2, 3], dtype=tf.float32)\n",
    "b = tf.constant([4, 5, 6], dtype=tf.float32)\n",
    "\n",
    "result = tf.divide(a, b)  # Output: [0.25, 0.4, 0.5]\n",
    "print(\"Division (TensorFlow):\", result.numpy())"
   ]
  },
  {
   "cell_type": "code",
   "execution_count": 92,
   "metadata": {},
   "outputs": [
    {
     "name": "stdout",
     "output_type": "stream",
     "text": [
      "Division (TensorFlow): [0.25 0.4  0.5 ]\n"
     ]
    }
   ],
   "source": [
    "# Here we could run the operation on GPU if available\n",
    "\n",
    "a = tf.constant([1, 2, 3], dtype=tf.float32)\n",
    "b = tf.constant([4, 5, 6], dtype=tf.float32)\n",
    "\n",
    "with tf.device(tf_device):\n",
    "    result = tf.divide(a, b)  # Output: [5.0, 7.0, 9.0]\n",
    "print(\"Division (TensorFlow):\", result.numpy())"
   ]
  },
  {
   "cell_type": "code",
   "execution_count": null,
   "metadata": {},
   "outputs": [
    {
     "name": "stdout",
     "output_type": "stream",
     "text": [
      "Gradient of division w.r.t a: 0.33333334\n",
      "Gradient of division w.r.t b: -0.22222222\n"
     ]
    }
   ],
   "source": [
    "# Here we are using Autograd. It helps to figure out how things change when you tweak things. Not necessarily important here but later.\n",
    "\n",
    "# Define variables for TensorFlow\n",
    "a = tf.Variable(2.0)\n",
    "b = tf.Variable(3.0)\n",
    "\n",
    "# Use GradientTape to track operations\n",
    "with tf.GradientTape() as tape:\n",
    "    # Perform division\n",
    "    division = a / b  # f(a, b) = a / b\n",
    "\n",
    "# Compute gradients\n",
    "grad_a, grad_b = tape.gradient(division, [a, b])\n",
    "\n",
    "# Display the gradients\n",
    "print(\"Gradient of division w.r.t a:\", grad_a.numpy())  # Should be 0.33333334\n",
    "print(\"Gradient of division w.r.t b:\", grad_b.numpy())  # Should be -0.22222222"
   ]
  },
  {
   "cell_type": "markdown",
   "metadata": {},
   "source": [
    "PyTorch"
   ]
  },
  {
   "cell_type": "code",
   "execution_count": 83,
   "metadata": {},
   "outputs": [
    {
     "name": "stdout",
     "output_type": "stream",
     "text": [
      "Division (PyTorch): tensor([0.2500, 0.4000, 0.5000])\n"
     ]
    }
   ],
   "source": [
    "a = torch.tensor([1, 2, 3])\n",
    "b = torch.tensor([4, 5, 6])\n",
    "\n",
    "result = a / b  # Output: tensor([0.2500, 0.4000, 0.5000])\n",
    "print(\"Division (PyTorch):\", result)"
   ]
  },
  {
   "cell_type": "code",
   "execution_count": 98,
   "metadata": {},
   "outputs": [
    {
     "name": "stdout",
     "output_type": "stream",
     "text": [
      "Division (PyTorch): tensor([0.2500, 0.4000, 0.5000])\n"
     ]
    }
   ],
   "source": [
    "# Here we could run the operation on GPU if available\n",
    "\n",
    "a = torch.tensor([1, 2, 3]).to(torch_device)\n",
    "b = torch.tensor([4, 5, 6]).to(torch_device)\n",
    "\n",
    "result = a / b  # Output: tensor([0.2500, 0.4000, 0.5000])\n",
    "print(\"Division (PyTorch):\", result)"
   ]
  },
  {
   "cell_type": "code",
   "execution_count": 103,
   "metadata": {},
   "outputs": [
    {
     "name": "stdout",
     "output_type": "stream",
     "text": [
      "Gradient of division w.r.t a: 0.33333334\n",
      "Gradient of division w.r.t b: -0.22222222\n"
     ]
    }
   ],
   "source": [
    "# Here we are using Autograd. It helps to figure out how things change when you tweak things. Not necessarily important here but later.\n",
    "\n",
    "# Define variables with requires_grad=True to enable autograd\n",
    "a = torch.tensor(2.0, requires_grad=True)\n",
    "b = torch.tensor(3.0, requires_grad=True)\n",
    "\n",
    "# Perform division\n",
    "division = a / b  # f(a, b) = a / b\n",
    "\n",
    "# Compute gradients\n",
    "division.backward()\n",
    "\n",
    "# Display the gradients\n",
    "print(\"Gradient of division w.r.t a:\", a.grad.numpy())  # Should be 0.3333\n",
    "print(\"Gradient of division w.r.t b:\", b.grad.numpy())  # Should be -0.2222"
   ]
  },
  {
   "cell_type": "code",
   "execution_count": null,
   "metadata": {},
   "outputs": [],
   "source": []
  }
 ],
 "metadata": {
  "kernelspec": {
   "display_name": "Python 3",
   "language": "python",
   "name": "python3"
  },
  "language_info": {
   "codemirror_mode": {
    "name": "ipython",
    "version": 3
   },
   "file_extension": ".py",
   "mimetype": "text/x-python",
   "name": "python",
   "nbconvert_exporter": "python",
   "pygments_lexer": "ipython3",
   "version": "3.10.5"
  }
 },
 "nbformat": 4,
 "nbformat_minor": 2
}
