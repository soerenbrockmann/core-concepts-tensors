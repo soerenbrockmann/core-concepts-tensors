{
 "cells": [
  {
   "cell_type": "markdown",
   "metadata": {},
   "source": [
    "# Example Benchmark Code\n",
    "\n",
    "### Benchmark Methodology\n",
    "For this benchmark, we will:\n",
    "1. Create a tensor with **1 million** elements in each framework.\n",
    "2. Perform an **element-wise addition** operation (e.g., adding a scalar value of 2).\n",
    "3. Record the time it takes to complete the operation in each framework using the built-in `time` module.\n",
    "\n",
    "We will use the following test case:\n",
    "- **Tensor size**: 1,000,000 elements (1D array)\n",
    "- **Operation**: Scalar addition (e.g., adding 2 to every element)"
   ]
  },
  {
   "cell_type": "code",
   "execution_count": 2,
   "metadata": {},
   "outputs": [
    {
     "name": "stderr",
     "output_type": "stream",
     "text": [
      "2024-11-13 11:01:38.024541: I tensorflow/core/platform/cpu_feature_guard.cc:210] This TensorFlow binary is optimized to use available CPU instructions in performance-critical operations.\n",
      "To enable the following instructions: AVX2 FMA, in other operations, rebuild TensorFlow with the appropriate compiler flags.\n"
     ]
    }
   ],
   "source": [
    "import time\n",
    "import numpy as np\n",
    "import torch\n",
    "import tensorflow as tf"
   ]
  },
  {
   "cell_type": "code",
   "execution_count": 3,
   "metadata": {},
   "outputs": [],
   "source": [
    "# Python List Benchmark\n",
    "start = time.time()\n",
    "python_list = [i for i in range(1000000)]\n",
    "python_list_added = [x + 2 for x in python_list]\n",
    "python_list_time = time.time() - start"
   ]
  },
  {
   "cell_type": "code",
   "execution_count": 4,
   "metadata": {},
   "outputs": [],
   "source": [
    "# NumPy Benchmark\n",
    "start = time.time()\n",
    "numpy_array = np.arange(1000000)\n",
    "numpy_array_added = numpy_array + 2\n",
    "numpy_time = time.time() - start"
   ]
  },
  {
   "cell_type": "code",
   "execution_count": 5,
   "metadata": {},
   "outputs": [],
   "source": [
    "# PyTorch Benchmark\n",
    "start = time.time()\n",
    "torch_tensor = torch.arange(1000000)\n",
    "torch_tensor_added = torch_tensor + 2\n",
    "torch_time = time.time() - start"
   ]
  },
  {
   "cell_type": "code",
   "execution_count": 6,
   "metadata": {},
   "outputs": [],
   "source": [
    "# TensorFlow Benchmark\n",
    "start = time.time()\n",
    "tensorflow_tensor = tf.range(1000000)\n",
    "tensorflow_tensor_added = tensorflow_tensor + 2\n",
    "tensorflow_time = time.time() - start"
   ]
  },
  {
   "cell_type": "code",
   "execution_count": 7,
   "metadata": {},
   "outputs": [
    {
     "name": "stdout",
     "output_type": "stream",
     "text": [
      "Python List time: 0.10499715805053711 seconds\n",
      "NumPy time: 0.0070209503173828125 seconds\n",
      "PyTorch time: 0.006959199905395508 seconds\n",
      "TensorFlow time: 0.044510841369628906 seconds\n"
     ]
    }
   ],
   "source": [
    "# Display Results\n",
    "print(f\"Python List time: {python_list_time} seconds\")\n",
    "print(f\"NumPy time: {numpy_time} seconds\")\n",
    "print(f\"PyTorch time: {torch_time} seconds\")\n",
    "print(f\"TensorFlow time: {tensorflow_time} seconds\")"
   ]
  },
  {
   "cell_type": "code",
   "execution_count": null,
   "metadata": {},
   "outputs": [],
   "source": []
  }
 ],
 "metadata": {
  "kernelspec": {
   "display_name": "Python 3",
   "language": "python",
   "name": "python3"
  },
  "language_info": {
   "codemirror_mode": {
    "name": "ipython",
    "version": 3
   },
   "file_extension": ".py",
   "mimetype": "text/x-python",
   "name": "python",
   "nbconvert_exporter": "python",
   "pygments_lexer": "ipython3",
   "version": "3.10.5"
  }
 },
 "nbformat": 4,
 "nbformat_minor": 2
}
